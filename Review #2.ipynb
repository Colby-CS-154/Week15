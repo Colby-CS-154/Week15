{
 "cells": [
  {
   "cell_type": "markdown",
   "metadata": {},
   "source": [
    "### Problem #1: \n",
    "\n",
    "Given two sorted lists, merge them together to create a third list\n",
    "\n",
    "`merge_two_list(first_list: list[int], second_list[int]) -> list[int]`"
   ]
  },
  {
   "cell_type": "markdown",
   "metadata": {},
   "source": [
    "Solution #1: Easy"
   ]
  },
  {
   "cell_type": "code",
   "execution_count": 2,
   "metadata": {},
   "outputs": [],
   "source": [
    "def merge_two_lists(first_list: list[int], second_list: list[int]) -> list[int]:\n",
    "\n",
    "    first_list.extend(second_list)\n",
    "\n",
    "    return first_list.sort()\n",
    "\n"
   ]
  },
  {
   "cell_type": "markdown",
   "metadata": {},
   "source": [
    "Solution #2: Medium"
   ]
  },
  {
   "cell_type": "code",
   "execution_count": 4,
   "metadata": {},
   "outputs": [],
   "source": [
    "def merge_two_lists(first_list: list[int], second_list: list[int]) -> list[int]:\n",
    "\n",
    "    index_1 = 0\n",
    "    index_2 = 0\n",
    "    final_list = []\n",
    "\n",
    "    while (index_1 <= len(first_list) - 1) and (index_2 <= len(second_list) - 1):\n",
    "\n",
    "        if first_list[index_1] < second_list[index_2]:\n",
    "            final_list.append(first_list[index_1])\n",
    "            index_1 += 1\n",
    "\n",
    "        else:\n",
    "            final_list.append(second_list[index_2])\n",
    "            index_2 += 1\n",
    "        \n",
    "    if index_1 == len(first_list):\n",
    "        final_list.extend(second_list[index_2:])\n",
    "    elif index_2 == len(second_list):\n",
    "        final_list.extend(first_list[index_1:])\n",
    "    \n",
    "    return final_list\n"
   ]
  },
  {
   "cell_type": "markdown",
   "metadata": {},
   "source": [
    "Solution #3: Hard"
   ]
  },
  {
   "cell_type": "code",
   "execution_count": 1,
   "metadata": {},
   "outputs": [],
   "source": [
    "def merge_two_lists(first_list: list[int], second_list: list[int]) -> list[int]:\n",
    "\n",
    "    final_list: list[int] = []\n",
    "\n",
    "    return merge_two_lists_recursive(first_list, second_list, final_list)\n",
    "\n",
    "def merge_two_lists_recursive(first_list: list[int], second_list: list[int], final_list: list[int]) -> list[int]:\n",
    "\n",
    "    # Base Case\n",
    "    if len(first_list) == 0:\n",
    "        final_list.extend(second_list)\n",
    "        return final_list\n",
    "    elif len(second_list) == 0:\n",
    "        final_list.extend(first_list)\n",
    "        return final_list\n",
    "\n",
    "    # Recursive Case\n",
    "    else:\n",
    "        if first_list[0] < second_list[0]:\n",
    "            final_list.append(first_list[0])\n",
    "            return merge_two_lists_recursive(first_list[1:], second_list, final_list)\n",
    "        else:\n",
    "            final_list.append(second_list[0])\n",
    "            return merge_two_lists_recursive(first_list, second_list[1:], final_list)"
   ]
  },
  {
   "cell_type": "code",
   "execution_count": 8,
   "metadata": {},
   "outputs": [
    {
     "data": {
      "text/plain": [
       "[1, 1, 2, 2, 3, 4, 5, 6]"
      ]
     },
     "execution_count": 8,
     "metadata": {},
     "output_type": "execute_result"
    }
   ],
   "source": [
    "merge_two_lists([1, 2, 3, 4, 5, 6], [1, 2])"
   ]
  }
 ],
 "metadata": {
  "kernelspec": {
   "display_name": "colby",
   "language": "python",
   "name": "python3"
  },
  "language_info": {
   "codemirror_mode": {
    "name": "ipython",
    "version": 3
   },
   "file_extension": ".py",
   "mimetype": "text/x-python",
   "name": "python",
   "nbconvert_exporter": "python",
   "pygments_lexer": "ipython3",
   "version": "3.11.9"
  }
 },
 "nbformat": 4,
 "nbformat_minor": 2
}
