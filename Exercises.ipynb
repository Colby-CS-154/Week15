{
 "cells": [
  {
   "cell_type": "markdown",
   "metadata": {},
   "source": [
    "# Exercises\n",
    "\n",
    "This notebook contains several questions that should help you practice some of the concepts for upcoming final. Do not forget to practice the questions from the quiz, homework, and Jupyter notebooks.\n",
    "\n",
    "While the solutions are provided at the end of the notebook, try to answer the questions first before looking at the solution"
   ]
  },
  {
   "cell_type": "markdown",
   "metadata": {},
   "source": [
    "### Problem 1\n",
    "\n",
    "\n",
    "Write a function, that takes in a tuple of numbers and tells you if the sequence is in ascending order, descending order, or mixed order.\n",
    "\n",
    "```python\n",
    "tell_order((1, 2, 3, 4, 5)) \n",
    "\"Ascending\"\n",
    "tell_order((5, 4, 3))\n",
    "\"Descending\"\n",
    "tell_order((5, 3, 1, 2))\n",
    "\"Mixed Order\""
   ]
  },
  {
   "cell_type": "markdown",
   "metadata": {},
   "source": [
    "### Problem 2\n",
    "\n",
    "Write a function that prints a pyramid of asterix based on the number of levels. \n",
    "\n",
    "```python\n",
    "print_pyramid(1)\n",
    "*\n",
    "print_pyramid(2)\n",
    "*\n",
    "**\n",
    "print_pyramid(3)\n",
    "*\n",
    "**\n",
    "***\n",
    "print_pyramid(5)\n",
    "*\n",
    "**\n",
    "***\n",
    "****\n",
    "*****\n",
    "```"
   ]
  },
  {
   "cell_type": "markdown",
   "metadata": {},
   "source": [
    "### Problem 3\n",
    "\n",
    "Create a function that tells if the number is positive or negative, and even or odd. If the number is zero, it should say it is zero.\n",
    "\n",
    "```python\n",
    "nature_of_number(1)\n",
    "\"Positive Odd\"\n",
    "nature_of_number(-2)\n",
    "\"Negative Even\"\n",
    "nature_of_number(0)\n",
    "\"Zero\"\n",
    "```\n"
   ]
  },
  {
   "cell_type": "markdown",
   "metadata": {},
   "source": [
    "### Problem 4\n",
    "\n",
    "Create a function that reverses a dictionary, i.e., converts the keys into values and values into keys. Duplicate values should be overwritten\n",
    "\n",
    "```python\n",
    "reverse_dictionary({'a': 10, 'b': 20, 'c': 30})\n",
    "{10: 'a', 20: 'b', 30: 'c'}\n",
    "reverse_dictionary({'a': 1, 'b': 2, 'c': 1})\n",
    "{1: 'c', 2: 'b'}\n",
    "```\n"
   ]
  },
  {
   "cell_type": "markdown",
   "metadata": {},
   "source": [
    "### Problem 5\n",
    "\n",
    "Write a function called `print_series` that takes in a parameter called `n` and prints numbers upto `n` except if they are divisible by 3 or 5. If the number is divisible by both 3 and 5 it should print \"Hoppa\". It should optionally take another parameter called `start` and start printing from here until `n`. Assume that `n` will always be <= `start`\n",
    "\n",
    "```python\n",
    "print_series(n=21, start=11)\n",
    "11\n",
    "13\n",
    "14\n",
    "Hoppa\n",
    "16\n",
    "17\n",
    "19\n",
    "21\n",
    "print_series(n=10)\n",
    "1\n",
    "2\n",
    "4\n",
    "7\n",
    "8\n",
    "print_series(n=9, start=9)\n",
    "\n",
    "print_series(n=11, start=11)\n",
    "11\n",
    "```"
   ]
  },
  {
   "cell_type": "markdown",
   "metadata": {},
   "source": [
    "### Problem 6\n",
    "\n",
    "Write a function called `search_for_string` that takes in a list of string and a string and returns a list that contains the string.\n",
    "\n",
    "```python\n",
    "print(search_for_string(['she', 'sells', 'sea', 'shells', 'on', 'the', 'sea-shore'], 'he'))\n",
    "['she', 'shells', 'the']\n",
    "print(search_for_string(['Auckland', 'Hamilton',  'Wellington', 'Christchurch', 'Dunedin'], 'ton', 'Burlington'))\n",
    "['Hamilton', 'Wellington', 'Burlington']\n",
    "```\n",
    "\n"
   ]
  },
  {
   "cell_type": "markdown",
   "metadata": {},
   "source": [
    "### Problem 7\n",
    "\n",
    "Write a function that randomly selects a number between 1 and 100 and plays the guessing game with the user telling them if the user's guess is higher or lower than the actual value.\n",
    "\n",
    "\n",
    "```bash\n",
    "guessing_game()\n",
    "# Assuming the random number selected is 42\n",
    "What is your guess? 10\n",
    "Lower\n",
    "What is your guess? 50\n",
    "Higher\n",
    "What is your guess? 30\n",
    "Lower\n",
    "What is your guess? 40\n",
    "Lower\n",
    "What is your guess? 45\n",
    "Higher\n",
    "What is your guess? 42\n",
    "Correct!\n",
    "\n",
    "guessing_game()\n",
    "# This initializes to a different number 10\n",
    "What is your guess? 10\n",
    "Correct!\n",
    "```"
   ]
  },
  {
   "cell_type": "markdown",
   "metadata": {},
   "source": [
    "### Problem 8\n",
    "\n",
    "Write a recursive function that adds all odd numbers up to n\n",
    "\n",
    "```python\n",
    "odd_sum_to_n(10)\n",
    "25\n",
    "odd_sum_to_n(5)\n",
    "9\n",
    "odd_sum_to_n(1)\n",
    "1\n",
    "odd_sum_to_n(2)\n",
    "1\n",
    "```"
   ]
  },
  {
   "cell_type": "markdown",
   "metadata": {},
   "source": [
    "### Some questions about NLP\n",
    "\n",
    "Following are some examples of questions that can be asked in the final:\n",
    "\n",
    "* What is training set?\n",
    "* What is test set?\n",
    "* What is a dataset?\n",
    "* How do we split dataset into training and test set?\n",
    "* What is training of a ML model?\n",
    "* Assume that you trained a classification model to accurately predict if a review is positive/negative. You achieve 95% accuracy on your training set. How do you ensure that the model has actually achieved a 95% accuracy and did not merely memorize each label?\n",
    "* In your own words describe what is TF-IDF and how is it used.\n",
    "* In your own words describe how does Naive Bayes Classifier works.\n",
    "\n",
    "\n",
    "### Descriptive questions that can be asked in the final\n",
    "\n",
    "Following are some examples (look into the \"Review\" section of Jupyter notebooks for more examples) that can be asked in the final:\n",
    "\n",
    "* What is an attribute?\n",
    "* What is a parameter?\n",
    "* What is the return type of a function that does not have a return statement?\n",
    "* What is a package?\n",
    "* What is a module?\n"
   ]
  },
  {
   "cell_type": "markdown",
   "metadata": {},
   "source": [
    "# Solutions"
   ]
  },
  {
   "cell_type": "code",
   "execution_count": null,
   "metadata": {},
   "outputs": [],
   "source": [
    "# Solution #1\n",
    "def tell_order(tuple_of_numbers: set[int]) -> None:\n",
    "    \"\"\"\n",
    "    This functions tells if the sequence of tuple_of_numbers is ascending, descending or mixed order.\n",
    "\n",
    "    Args:\n",
    "        tuple_of_numbers (set[int]): Tuple of numbers.\n",
    "    \"\"\"\n",
    "\n",
    "    if tuple_of_numbers == tuple(sorted(tuple_of_numbers)):\n",
    "        print(\"Ascending\")\n",
    "    elif tuple_of_numbers == tuple(sorted(tuple_of_numbers, reverse=True)):\n",
    "        print(\"Descending\")\n",
    "    else:\n",
    "        print(\"Mixed Order\")\n"
   ]
  },
  {
   "cell_type": "code",
   "execution_count": null,
   "metadata": {},
   "outputs": [],
   "source": [
    "# Solution 2\n",
    "\n",
    "def print_pyramid(n: int) -> None:\n",
    "    \"\"\"\n",
    "    This function prints a pyramid of height n.\n",
    "\n",
    "    Args:\n",
    "        n (int): Height of the pyramid.\n",
    "    \"\"\"\n",
    "    for i in range(n):\n",
    "        print(\"*\" * (i + 1))\n"
   ]
  },
  {
   "cell_type": "code",
   "execution_count": null,
   "metadata": {},
   "outputs": [],
   "source": [
    "# Solution 3\n",
    "\n",
    "def nature_of_number(number: int) -> str:\n",
    "    if number == 0:\n",
    "        return \"Zero\"\n",
    "    elif number > 0:\n",
    "        if number % 2 == 0:\n",
    "            return \"Positive Even\"\n",
    "        else:\n",
    "            return \"Positive Odd\"\n",
    "    else:\n",
    "        if number % 2 == 0:\n",
    "            return \"Negative Even\"\n",
    "        else:\n",
    "            return \"Negative Odd\""
   ]
  },
  {
   "cell_type": "code",
   "execution_count": null,
   "metadata": {},
   "outputs": [],
   "source": [
    "# Solution 4\n",
    "\n",
    "def reverse_dictionary(dictionary: dict) -> dict:\n",
    "    reversed_dict = {}\n",
    "    for key, value in dictionary.items():\n",
    "        reversed_dict[value] = key\n",
    "    return reversed_dict"
   ]
  },
  {
   "cell_type": "code",
   "execution_count": null,
   "metadata": {},
   "outputs": [],
   "source": [
    "# Solution 5\n",
    "\n",
    "def print_series(n: int, start: int = 1) -> None:\n",
    "    for i in range(start, n + 1):\n",
    "        if i % 3 == 0 and i % 5 == 0:\n",
    "            print(\"Hoppa\")\n",
    "        elif i % 3 == 0 or i % 5 == 0:\n",
    "            continue\n",
    "        else:\n",
    "            print(i)"
   ]
  },
  {
   "cell_type": "code",
   "execution_count": null,
   "metadata": {},
   "outputs": [],
   "source": [
    "# Solution 6\n",
    "\n",
    "def search_for_string(list_of_strings: list[str], string: str) -> list[str]:\n",
    "    result = []\n",
    "    for each_string in list_of_strings:\n",
    "        if string in each_string:\n",
    "            result.append(each_string)\n",
    "    return result\n",
    "\n",
    "# Alternatively, using list comprehension\n",
    "def search_for_string(list_of_strings: list[str], string: str) -> list[str]:\n",
    "    return [s for s in list_of_strings if string in s]"
   ]
  },
  {
   "cell_type": "code",
   "execution_count": null,
   "metadata": {},
   "outputs": [],
   "source": [
    "# Solution 7\n",
    "import random\n",
    "\n",
    "def guess_number() -> None:\n",
    "    random_number = random.randint(1, 100)\n",
    "    while True:\n",
    "        user_guess = int(input(\"Enter your guess: \"))\n",
    "        if user_guess == random_number:\n",
    "            print(\"Correct!\")\n",
    "            break\n",
    "        elif user_guess < random_number:\n",
    "            print(\"Lower\")\n",
    "        else:\n",
    "            print(\"Higher\")"
   ]
  },
  {
   "cell_type": "code",
   "execution_count": null,
   "metadata": {},
   "outputs": [],
   "source": [
    "# Solution 8\n",
    "\n",
    "# Write a recursive function that adds all odd numbers up to n\n",
    "\n",
    "def odd_sum_to_n(n: int) -> int:\n",
    "    if n == 0:\n",
    "        return 0\n",
    "    if n % 2 == 0:\n",
    "        return odd_sum_to_n(n - 1)\n",
    "    return n + odd_sum_to_n(n - 2)"
   ]
  }
 ],
 "metadata": {
  "kernelspec": {
   "display_name": "colby",
   "language": "python",
   "name": "python3"
  },
  "language_info": {
   "codemirror_mode": {
    "name": "ipython",
    "version": 3
   },
   "file_extension": ".py",
   "mimetype": "text/x-python",
   "name": "python",
   "nbconvert_exporter": "python",
   "pygments_lexer": "ipython3",
   "version": "3.11.9"
  }
 },
 "nbformat": 4,
 "nbformat_minor": 2
}
